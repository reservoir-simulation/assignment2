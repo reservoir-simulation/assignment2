{
 "cells": [
  {
   "cell_type": "markdown",
   "metadata": {},
   "source": [
    "# Assignment 2\n",
    "\n",
    "---\n",
    "\n",
    "Use `git` to clone the assignment into your JupyterLab workspace on <https://spindletop.pge.utexas.edu>.  Complete the Python functions below, test your code, then commit the changes to this file to the repository and push it to [Github](https://github.com) for submission."
   ]
  },
  {
   "cell_type": "markdown",
   "metadata": {},
   "source": [
    "# Problem 1\n",
    "\n",
    "Complete the function such that its output is the square of $a$"
   ]
  },
  {
   "cell_type": "code",
   "execution_count": 3,
   "metadata": {
    "collapsed": true
   },
   "outputs": [],
   "source": [
    "def square(a):\n",
    "    ## enter code here\n",
    "    return"
   ]
  },
  {
   "cell_type": "markdown",
   "metadata": {},
   "source": [
    "# Problem 2\n",
    "\n",
    "Given a mathematical function $x(t) = 5 t$, write a Python function that returns an estimate to the first derivative of $x$ at a given point $t$ using the following finite-difference formula\n",
    "\n",
    "$$\\frac{\\partial x}{\\partial t} \\approx \\frac{\\Delta x}{\\Delta t} = \\frac{x(t+\\Delta t) - x(t)}{\\Delta t}$$\n",
    "\n",
    "$\\Delta t$ is a user provided argument to the function."
   ]
  },
  {
   "cell_type": "code",
   "execution_count": 4,
   "metadata": {
    "collapsed": true
   },
   "outputs": [],
   "source": [
    "def finite_diff(t, delta_t):\n",
    "    ## enter code here\n",
    "    return"
   ]
  },
  {
   "cell_type": "markdown",
   "metadata": {},
   "source": [
    "# Problem 3\n",
    "\n",
    "Write a function that takes in a productivity index of a well $J$ in (ft$^3$/psi-day), a bottomhole pressure $P_{wf}$ (psi), and an initial pressure $P_i$ (psi) and returns the initial production rate $q_w$ in BBLs/day.\n",
    "\n",
    "Give a default argument to $P_{wf}$ such that if it is omitted from the function argument list then $P_{wf} = 2000$ (psi). \n",
    "\n",
    "Recall that\n",
    "\n",
    "$$\n",
    "q_w = J (P_i - P_{wf})\n",
    "$$\n",
    "\n",
    "you may need a conversion factor."
   ]
  },
  {
   "cell_type": "code",
   "execution_count": 9,
   "metadata": {
    "collapsed": true
   },
   "outputs": [],
   "source": [
    "def well(J, Pi, Pwf=2000):\n",
    "    ## enter code here\n",
    "    return"
   ]
  }
 ],
 "metadata": {
  "kernelspec": {
   "display_name": "Python 3",
   "language": "python",
   "name": "python3"
  },
  "language_info": {
   "codemirror_mode": {
    "name": "ipython",
    "version": 3
   },
   "file_extension": ".py",
   "mimetype": "text/x-python",
   "name": "python",
   "nbconvert_exporter": "python",
   "pygments_lexer": "ipython3",
   "version": "3.6.5"
  }
 },
 "nbformat": 4,
 "nbformat_minor": 2
}
